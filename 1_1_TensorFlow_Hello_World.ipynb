{
  "nbformat": 4,
  "nbformat_minor": 0,
  "metadata": {
    "kernelspec": {
      "display_name": "Python 3",
      "language": "python",
      "name": "python3"
    },
    "language_info": {
      "codemirror_mode": {
        "name": "ipython",
        "version": 3
      },
      "file_extension": ".py",
      "mimetype": "text/x-python",
      "name": "python",
      "nbconvert_exporter": "python",
      "pygments_lexer": "ipython3",
      "version": "3.6.8"
    },
    "colab": {
      "name": "1.1-TensorFlow-Hello-World.ipynb",
      "provenance": [],
      "include_colab_link": true
    }
  },
  "cells": [
    {
      "cell_type": "markdown",
      "metadata": {
        "id": "view-in-github",
        "colab_type": "text"
      },
      "source": [
        "<a href=\"https://colab.research.google.com/github/Vivek1015/google-colaboratory/blob/master/1_1_TensorFlow_Hello_World.ipynb\" target=\"_parent\"><img src=\"https://colab.research.google.com/assets/colab-badge.svg\" alt=\"Open In Colab\"/></a>"
      ]
    },
    {
      "cell_type": "code",
      "metadata": {
        "id": "jPmHvfjW1bmj",
        "colab_type": "code",
        "colab": {}
      },
      "source": [
        "<a href=\"https://www.bigdatauniversity.com\"><img src=\"https://ibm.box.com/shared/static/qo20b88v1hbjztubt06609ovs85q8fau.png\" width=\"400px\" align=\"center\"></a>\n",
        "\n",
        "<h1 align=\"center\"><font size=\"5\">TENSORFLOW'S HELLO WORLD</font></h1>"
      ],
      "execution_count": null,
      "outputs": []
    },
    {
      "cell_type": "markdown",
      "metadata": {
        "id": "CGVxMyXW1bmo",
        "colab_type": "text"
      },
      "source": [
        "<div class=\"alert alert-block alert-info\" style=\"margin-top: 20px\">\n",
        "<font size = 3><strong>In this notebook we will overview the basics of TensorFlow, learn it's structure and see what is the motivation to use it</strong></font>\n",
        "<br>\n",
        "<h2>Table of Contents</h2>\n",
        "<ol>\n",
        "    <li><a href=\"#ref2\">How does TensorFlow work?</a></li>\n",
        "    <li><a href=\"#ref3\">Building a Graph</a></li>\n",
        "    <li><a href=\"#ref4\">Defining multidimensional arrays using TensorFlow</a></li>\n",
        "    <li><a href=\"#ref5\">Why Tensors?</a></li>\n",
        "    <li><a href=\"#ref6\">Variables</a></li>\n",
        "    <li><a href=\"#ref7\">Placeholders</a></li>\n",
        "    <li><a href=\"#ref8\">Operations</a></li>\n",
        "</ol>\n",
        "<p></p>\n",
        "</div>\n",
        "<br>\n",
        "\n",
        "<hr>"
      ]
    },
    {
      "cell_type": "markdown",
      "metadata": {
        "id": "G8-rW2cT1bmo",
        "colab_type": "text"
      },
      "source": [
        "<a id=\"ref2\"></a>\n",
        "<h2>How does TensorFlow work?</h2>\n",
        "TensorFlow defines computations as Graphs, and these are made with operations (also know as “ops”). So, when we work with TensorFlow, it is the same as defining a series of operations in a Graph.\n",
        "\n",
        "To execute these operations as computations, we must launch the Graph into a Session. The session translates and passes the operations represented into the graphs to the device you want to execute them on, be it a GPU or CPU. In fact, TensorFlow's capability to execute the code on different devices such as CPUs and GPUs is a consequence of it's specific structure.\n",
        "\n",
        "For example, the image below represents a graph in TensorFlow. <b>W</b>, <b>x</b> and b are tensors over the edges of this graph. <b>MatMul</b> is an operation over the tensors <b>W</b> and <b>x</b>, after that <b>Add</b> is called and add the result of the previous operator with <b>b</b>. The resultant tensors of each operation cross the next one until the end where it's possible to get the wanted result."
      ]
    },
    {
      "cell_type": "markdown",
      "metadata": {
        "id": "f1_dLHD01bmp",
        "colab_type": "text"
      },
      "source": [
        "<img src='https://ibm.box.com/shared/static/a94cgezzwbkrq02jzfjjljrcaozu5s2q.png'>\n"
      ]
    },
    {
      "cell_type": "markdown",
      "metadata": {
        "id": "cjnTMwFk1bmp",
        "colab_type": "text"
      },
      "source": [
        "<h2>Importing TensorFlow</h2>\n",
        "<p>To use TensorFlow, we need to import the library. We imported it and optionally gave it the name \"tf\", so the modules can be accessed by <b>tf.module-name</b>:</p>"
      ]
    },
    {
      "cell_type": "code",
      "metadata": {
        "id": "TS5cBPGW1bmq",
        "colab_type": "code",
        "colab": {}
      },
      "source": [
        "import tensorflow as tf"
      ],
      "execution_count": null,
      "outputs": []
    },
    {
      "cell_type": "markdown",
      "metadata": {
        "id": "gEKTt4xt1bmt",
        "colab_type": "text"
      },
      "source": [
        "-----------------"
      ]
    },
    {
      "cell_type": "markdown",
      "metadata": {
        "id": "njM1JJB61bmt",
        "colab_type": "text"
      },
      "source": [
        "<a id=\"ref3\"></a>\n",
        "# Building a Graph\n",
        "\n",
        "As we said before, TensorFlow works as a graph computational model. Let's create our first graph which we named as <b>graph1</b>."
      ]
    },
    {
      "cell_type": "code",
      "metadata": {
        "id": "LP8FiRhq1bmt",
        "colab_type": "code",
        "colab": {}
      },
      "source": [
        "graph1 = tf.Graph()"
      ],
      "execution_count": null,
      "outputs": []
    },
    {
      "cell_type": "markdown",
      "metadata": {
        "id": "Oko_4qUd1bmw",
        "colab_type": "text"
      },
      "source": [
        "Now we call the TensorFlow functions that construct new <b>tf.Operation</b> and <b>tf.Tensor</b> objects and add them to the <b>graph1</b>. As mentioned, each <b>tf.Operation</b> is a <b>node</b> and each <b>tf.Tensor</b> is an edge in the graph.\n",
        "\n",
        "Lets add 2 constants to our graph. For example, calling tf.constant([2], name = 'constant_a') adds a single <b>tf.Operation</b> to the default graph. This operation produces the value 2, and returns a <b>tf.Tensor</b> that represents the value of the constant.  \n",
        "<b>Notice:</b> tf.constant([2], name=\"constant_a\") creates a new tf.Operation named \"constant_a\" and returns a tf.Tensor named \"constant_a:0\"."
      ]
    },
    {
      "cell_type": "code",
      "metadata": {
        "id": "8aFXNrs71bmw",
        "colab_type": "code",
        "colab": {}
      },
      "source": [
        "with graph1.as_default():\n",
        "    a = tf.constant([2], name = 'constant_a')\n",
        "    b = tf.constant([3], name = 'constant_b')"
      ],
      "execution_count": null,
      "outputs": []
    },
    {
      "cell_type": "markdown",
      "metadata": {
        "id": "wAW7kBUD1bmy",
        "colab_type": "text"
      },
      "source": [
        "Lets look at the tensor __a__."
      ]
    },
    {
      "cell_type": "code",
      "metadata": {
        "id": "0e5_a-v31bmz",
        "colab_type": "code",
        "colab": {
          "base_uri": "https://localhost:8080/",
          "height": 34
        },
        "outputId": "cf3815b9-cad1-4f09-897e-9ab80bc12b02"
      },
      "source": [
        "a"
      ],
      "execution_count": null,
      "outputs": [
        {
          "output_type": "execute_result",
          "data": {
            "text/plain": [
              "<tf.Tensor 'constant_a:0' shape=(1,) dtype=int32>"
            ]
          },
          "metadata": {
            "tags": []
          },
          "execution_count": 4
        }
      ]
    },
    {
      "cell_type": "markdown",
      "metadata": {
        "id": "bZNiz9Qd1bm2",
        "colab_type": "text"
      },
      "source": [
        "As you can see, it just show the name, shape and type of the tensor in the graph. We will see it's value when we run it in a TensorFlow session."
      ]
    },
    {
      "cell_type": "code",
      "metadata": {
        "id": "w0HB16-y1bm3",
        "colab_type": "code",
        "colab": {
          "base_uri": "https://localhost:8080/",
          "height": 34
        },
        "outputId": "8bd53dec-a3d3-41c1-d901-f92b81153a88"
      },
      "source": [
        "# Printing the value of a\n",
        "sess = tf.compat.v1.Session(graph = graph1)\n",
        "\n",
        "result = sess.run(a)\n",
        "print(result)\n",
        "sess.close()"
      ],
      "execution_count": null,
      "outputs": [
        {
          "output_type": "stream",
          "text": [
            "[2]\n"
          ],
          "name": "stdout"
        }
      ]
    },
    {
      "cell_type": "markdown",
      "metadata": {
        "id": "pkTsXfG71bm5",
        "colab_type": "text"
      },
      "source": [
        "After that, let's make an operation over these tensors. The function <b>tf.add()</b> adds two tensors (you could also use `c = a + b`). "
      ]
    },
    {
      "cell_type": "code",
      "metadata": {
        "id": "7rsV1-E01bm5",
        "colab_type": "code",
        "colab": {}
      },
      "source": [
        "with graph1.as_default():\n",
        "    c = tf.add(a, b)\n",
        "    #c = a + b is also a way to define the sum of the terms"
      ],
      "execution_count": null,
      "outputs": []
    },
    {
      "cell_type": "markdown",
      "metadata": {
        "id": "BNFVTeRc1bm7",
        "colab_type": "text"
      },
      "source": [
        "Then TensorFlow needs to initialize a session to run our code. Sessions are, in a way, a context for creating a graph inside TensorFlow. Let's define our session:"
      ]
    },
    {
      "cell_type": "code",
      "metadata": {
        "id": "XSoOcfpX1bm8",
        "colab_type": "code",
        "colab": {}
      },
      "source": [
        "sess = tf.compat.v1.Session(graph = graph1)"
      ],
      "execution_count": null,
      "outputs": []
    },
    {
      "cell_type": "markdown",
      "metadata": {
        "id": "ftNjYm5d1bm-",
        "colab_type": "text"
      },
      "source": [
        "Let's run the session to get the result from the previous defined 'c' operation:"
      ]
    },
    {
      "cell_type": "code",
      "metadata": {
        "id": "UEV9T0Qu1bm-",
        "colab_type": "code",
        "colab": {
          "base_uri": "https://localhost:8080/",
          "height": 34
        },
        "outputId": "1924b8f3-cbc9-42b7-c9cb-b39c78889de4"
      },
      "source": [
        "result = sess.run(c)\n",
        "print(result)"
      ],
      "execution_count": null,
      "outputs": [
        {
          "output_type": "stream",
          "text": [
            "[5]\n"
          ],
          "name": "stdout"
        }
      ]
    },
    {
      "cell_type": "markdown",
      "metadata": {
        "id": "hyYvA_XK1bnA",
        "colab_type": "text"
      },
      "source": [
        "Close the session to release resources:"
      ]
    },
    {
      "cell_type": "code",
      "metadata": {
        "id": "fmCsFKr01bnA",
        "colab_type": "code",
        "colab": {}
      },
      "source": [
        "sess.close()"
      ],
      "execution_count": null,
      "outputs": []
    },
    {
      "cell_type": "markdown",
      "metadata": {
        "id": "rxU6ng3Z1bnC",
        "colab_type": "text"
      },
      "source": [
        "To avoid having to close sessions every time, we can define them in a <b>with</b> block, so after running the <b>with</b> block the session will close automatically:"
      ]
    },
    {
      "cell_type": "code",
      "metadata": {
        "id": "1L_wQdLf1bnD",
        "colab_type": "code",
        "colab": {
          "base_uri": "https://localhost:8080/",
          "height": 34
        },
        "outputId": "6c2edad7-11ae-44f0-9f26-dc93e60256d1"
      },
      "source": [
        "with tf.compat.v1.Session(graph = graph1) as sess:\n",
        "    result = sess.run(c)\n",
        "    print(result)"
      ],
      "execution_count": null,
      "outputs": [
        {
          "output_type": "stream",
          "text": [
            "[5]\n"
          ],
          "name": "stdout"
        }
      ]
    },
    {
      "cell_type": "code",
      "metadata": {
        "id": "1fKIGe2i3VRW",
        "colab_type": "code",
        "colab": {
          "base_uri": "https://localhost:8080/",
          "height": 121
        },
        "outputId": "c4db1d4d-c8d6-4156-de99-0019d2364c8a"
      },
      "source": [
        "from google.colab import drive\n",
        "drive.mount('/content/drive')"
      ],
      "execution_count": null,
      "outputs": [
        {
          "output_type": "stream",
          "text": [
            "Go to this URL in a browser: https://accounts.google.com/o/oauth2/auth?client_id=947318989803-6bn6qk8qdgf4n4g3pfee6491hc0brc4i.apps.googleusercontent.com&redirect_uri=urn%3aietf%3awg%3aoauth%3a2.0%3aoob&response_type=code&scope=email%20https%3a%2f%2fwww.googleapis.com%2fauth%2fdocs.test%20https%3a%2f%2fwww.googleapis.com%2fauth%2fdrive%20https%3a%2f%2fwww.googleapis.com%2fauth%2fdrive.photos.readonly%20https%3a%2f%2fwww.googleapis.com%2fauth%2fpeopleapi.readonly\n",
            "\n",
            "Enter your authorization code:\n",
            "··········\n",
            "Mounted at /content/drive\n"
          ],
          "name": "stdout"
        }
      ]
    },
    {
      "cell_type": "markdown",
      "metadata": {
        "id": "584ptbdp1bnF",
        "colab_type": "text"
      },
      "source": [
        "Even this silly example of adding 2 constants to reach a simple result defines the basis of TensorFlow. Define your operations (In this case our constants and _tf.add_), and start a session to build a graph."
      ]
    },
    {
      "cell_type": "markdown",
      "metadata": {
        "id": "iMK0agNn1bnF",
        "colab_type": "text"
      },
      "source": [
        "<h3>What is the meaning of Tensor?</h3>\n",
        "\n",
        "<div class=\"alert alert-success alertsuccess\" style=\"margin-top: 20px\">\n",
        "<font size = 3><strong>In TensorFlow all data is passed between operations in a computation graph, and these are passed in the form of Tensors, hence the name of TensorFlow.</strong></font>\n",
        "<br>\n",
        "<br>\n",
        "    The word <b>tensor</b> from new latin means \"that which stretches\". It is a mathematical object that is named \"tensor\" because an early application of tensors was the study of materials stretching under tension. The contemporary meaning of tensors can be taken as multidimensional arrays. \n",
        "\n",
        "\n",
        "\n",
        "</div>\n",
        "\n",
        "That's great, but... what are these multidimensional arrays? \n",
        "\n",
        "Going back a little bit to physics to understand the concept of dimensions:<br>\n",
        "<img src=\"https://ibm.box.com/shared/static/ymn0hl3hf8s3xb4k15v22y5vmuodnue1.svg\"/>\n",
        "<div style=\"text-align:center\"><a href=\"https://en.wikipedia.org/wiki/Dimension\">Image Source</a></div>\n",
        "<br>\n",
        "\n",
        "The zero dimension can be seen as a point, a single object or a single item.\n",
        "\n",
        "The first dimension can be seen as a line, a one-dimensional array can be seen as numbers along this line, or as points along the line. One dimension can contain infinite zero dimension/points elements.\n",
        "\n",
        "The second dimension can be seen as a surface, a two-dimensional array can be seen as an infinite series of lines along an infinite line. \n",
        "\n",
        "The third dimension can be seen as volume, a three-dimensional array can be seen as an infinite series of surfaces along an infinite line.\n",
        "\n",
        "The Fourth dimension can be seen as the hyperspace or spacetime, a volume varying through time, or an infinite series of volumes along an infinite line. And so forth on..."
      ]
    },
    {
      "cell_type": "markdown",
      "metadata": {
        "id": "Ap7uupE21bnF",
        "colab_type": "text"
      },
      "source": [
        "As mathematical objects: <br><br>\n",
        "<img src=\"https://ibm.box.com/shared/static/kmxz570uai8eeg6i6ynqdz6kmlx1m422.png\">\n",
        "<div style=\"text-align: center\"><a href=\"https://book.mql4.com/variables/arrays\">Image Source</a></div>"
      ]
    },
    {
      "cell_type": "markdown",
      "metadata": {
        "id": "S-maXw0S1bnG",
        "colab_type": "text"
      },
      "source": [
        "Summarizing:<br><br>\n",
        "<table style=\"width:100%\">\n",
        "  <tr>\n",
        "    <td><b>Dimension</b></td>\n",
        "    <td><b>Physical Representation</b></td> \n",
        "    <td><b>Mathematical Object</b></td>\n",
        "    <td><b>In Code</b></td>\n",
        "  </tr>\n",
        "  \n",
        "  <tr>\n",
        "    <td>Zero </td>\n",
        "    <td>Point</td> \n",
        "    <td>Scalar (Single Number)</td>\n",
        "    <td>[ 1 ]</td>\n",
        "  </tr>\n",
        "\n",
        "  <tr>\n",
        "    <td>One</td>\n",
        "    <td>Line</td> \n",
        "    <td>Vector (Series of Numbers) </td>\n",
        "    <td>[ 1,2,3,4,... ]</td>\n",
        "  </tr>\n",
        "  \n",
        "   <tr>\n",
        "    <td>Two</td>\n",
        "    <td>Surface</td> \n",
        "    <td>Matrix (Table of Numbers)</td>\n",
        "       <td>[ [1,2,3,4,...], [1,2,3,4,...], [1,2,3,4,...],... ]</td>\n",
        "  </tr>\n",
        "  \n",
        "   <tr>\n",
        "    <td>Three</td>\n",
        "    <td>Volume</td> \n",
        "    <td>Tensor (Cube of Numbers)</td>\n",
        "    <td>[ [[1,2,...], [1,2,...], [1,2,...],...], [[1,2,...], [1,2,...], [1,2,...],...], [[1,2,...], [1,2,...], [1,2,...] ,...]... ]</td>\n",
        "  </tr>\n",
        "  \n",
        "</table>\n"
      ]
    },
    {
      "cell_type": "markdown",
      "metadata": {
        "id": "sJf20BhO1bnG",
        "colab_type": "text"
      },
      "source": [
        "-----------------"
      ]
    },
    {
      "cell_type": "markdown",
      "metadata": {
        "id": "yiFLTWMf1bnH",
        "colab_type": "text"
      },
      "source": [
        "<a id=\"ref4\"></a>\n",
        "<h2>Defining multidimensional arrays using TensorFlow</h2>\n",
        "Now we will try to define such arrays using TensorFlow:"
      ]
    },
    {
      "cell_type": "code",
      "metadata": {
        "id": "a9DRy0D_1bnH",
        "colab_type": "code",
        "colab": {}
      },
      "source": [
        "graph2 = tf.Graph()\n",
        "with graph2.as_default():\n",
        "    Scalar = tf.constant(2)\n",
        "    Vector = tf.constant([5,6,2])\n",
        "    Matrix = tf.constant([[1,2,3],[2,3,4],[3,4,5]])\n",
        "    Tensor = tf.constant( [ [[1,2,3],[2,3,4],[3,4,5]] , [[4,5,6],[5,6,7],[6,7,8]] , [[7,8,9],[8,9,10],[9,10,11]] ] )\n",
        "with tf.Session(graph = graph2) as sess:\n",
        "    result = sess.run(Scalar)\n",
        "    print (\"Scalar (1 entry):\\n %s \\n\" % result)\n",
        "    result = sess.run(Vector)\n",
        "    print (\"Vector (3 entries) :\\n %s \\n\" % result)\n",
        "    result = sess.run(Matrix)\n",
        "    print (\"Matrix (3x3 entries):\\n %s \\n\" % result)\n",
        "    result = sess.run(Tensor)\n",
        "    print (\"Tensor (3x3x3 entries) :\\n %s \\n\" % result)"
      ],
      "execution_count": null,
      "outputs": []
    },
    {
      "cell_type": "markdown",
      "metadata": {
        "id": "5GvG_nWp1bnJ",
        "colab_type": "text"
      },
      "source": [
        "<b>tf.shape</b> returns the shape of our data structure."
      ]
    },
    {
      "cell_type": "code",
      "metadata": {
        "id": "VXCtSItT1bnJ",
        "colab_type": "code",
        "colab": {}
      },
      "source": [
        "Scalar.shape"
      ],
      "execution_count": null,
      "outputs": []
    },
    {
      "cell_type": "code",
      "metadata": {
        "id": "HYPyc35-1bnM",
        "colab_type": "code",
        "colab": {}
      },
      "source": [
        "Tensor.shape"
      ],
      "execution_count": null,
      "outputs": []
    },
    {
      "cell_type": "markdown",
      "metadata": {
        "id": "K-MHwAfc1bnP",
        "colab_type": "text"
      },
      "source": [
        "Now that you understand these data structures, I encourage you to play with them using some previous functions to see how they will behave, according to their structure types:"
      ]
    },
    {
      "cell_type": "code",
      "metadata": {
        "id": "aZyKNyVa1bnP",
        "colab_type": "code",
        "colab": {}
      },
      "source": [
        "graph3 = tf.Graph()\n",
        "with graph3.as_default():\n",
        "    Matrix_one = tf.constant([[1,2,3],[2,3,4],[3,4,5]])\n",
        "    Matrix_two = tf.constant([[2,2,2],[2,2,2],[2,2,2]])\n",
        "\n",
        "    add_1_operation = tf.add(Matrix_one, Matrix_two)\n",
        "    add_2_operation = Matrix_one + Matrix_two\n",
        "\n",
        "with tf.Session(graph =graph3) as sess:\n",
        "    result = sess.run(add_1_operation)\n",
        "    print (\"Defined using tensorflow function :\")\n",
        "    print(result)\n",
        "    result = sess.run(add_2_operation)\n",
        "    print (\"Defined using normal expressions :\")\n",
        "    print(result)"
      ],
      "execution_count": null,
      "outputs": []
    },
    {
      "cell_type": "markdown",
      "metadata": {
        "id": "z7dECkgb1bnR",
        "colab_type": "text"
      },
      "source": [
        "With the regular symbol definition and also the TensorFlow function we were able to get an element-wise multiplication, also known as Hadamard product. <br>\n",
        "\n",
        "But what if we want the regular matrix product?\n",
        "\n",
        "We then need to use another TensorFlow function called <b>tf.matmul()<b>:"
      ]
    },
    {
      "cell_type": "code",
      "metadata": {
        "id": "pnjCr6Jx1bnS",
        "colab_type": "code",
        "colab": {}
      },
      "source": [
        "graph4 = tf.Graph()\n",
        "with graph4.as_default():\n",
        "    Matrix_one = tf.constant([[2,3],[3,4]])\n",
        "    Matrix_two = tf.constant([[2,3],[3,4]])\n",
        "\n",
        "    mul_operation = tf.matmul(Matrix_one, Matrix_two)\n",
        "\n",
        "with tf.Session(graph = graph4) as sess:\n",
        "    result = sess.run(mul_operation)\n",
        "    print (\"Defined using tensorflow function :\")\n",
        "    print(result)"
      ],
      "execution_count": null,
      "outputs": []
    },
    {
      "cell_type": "markdown",
      "metadata": {
        "id": "iDSADjWo1bnU",
        "colab_type": "text"
      },
      "source": [
        "We could also define this multiplication ourselves, but there is a function that already does that, so no need to reinvent the wheel!"
      ]
    },
    {
      "cell_type": "markdown",
      "metadata": {
        "id": "Mit4Y4i31bnU",
        "colab_type": "text"
      },
      "source": [
        "-----------------"
      ]
    },
    {
      "cell_type": "markdown",
      "metadata": {
        "id": "_v3ivXRz1bnV",
        "colab_type": "text"
      },
      "source": [
        "<a id=\"ref5\"></a>\n",
        "<h2>Why Tensors?</h2>\n",
        "\n",
        "The Tensor structure helps us by giving the freedom to shape the dataset in the way we want.\n",
        "\n",
        "And it is particularly helpful when dealing with images, due to the nature of how information in images are encoded,\n",
        "\n",
        "Thinking about images, its easy to understand that it has a height and width, so it would make sense to represent the information contained in it with a two dimensional structure (a matrix)... until you remember that images have colors, and to add information about the colors, we need another dimension, and thats when Tensors become particularly helpful.\n",
        "\n",
        "Images are encoded into color channels, the image data is represented into each color intensity in a color channel at a given point, the most common one being RGB, which means Red, Blue and Green. The information contained into an image is the intensity of each channel color into the width and height of the image, just like this:\n",
        "\n",
        "<img src='https://ibm.box.com/shared/static/xlpv9h5xws248c09k1rlx7cer69y4grh.png'>\n",
        "<a href=\"https://msdn.microsoft.com/en-us/library/windows/desktop/dn424131.aspx\">Image Source</a>\n",
        "\n",
        "So the intensity of the red channel at each point with width and height can be represented into a matrix, the same goes for the blue and green channels, so we end up having three matrices, and when these are combined they form a tensor. \n"
      ]
    },
    {
      "cell_type": "markdown",
      "metadata": {
        "id": "TVxups3U1bnV",
        "colab_type": "text"
      },
      "source": [
        "-----------------"
      ]
    },
    {
      "cell_type": "markdown",
      "metadata": {
        "id": "8Y7xR6Kn1bnW",
        "colab_type": "text"
      },
      "source": [
        "<a id=\"ref6\"></a>\n",
        "# Variables\n",
        "\n",
        "Now that we are more familiar with the structure of data, we will take a look at how TensorFlow handles variables.\n",
        "<b>First of all, having tensors, why do we need variables?</b>  \n",
        "TensorFlow variables are used to share and persistent some stats that are manipulated by our program. That is, when you define a variable, TensorFlow adds a <b>tf.Operation</b> to your graph. Then, this operation will store a writable tensor value that persists between tf.Session.run calls. So, you can update the value of a variable through each run, while you cannot update tensor (e.g a tensor created by tf.constant()) through multiple runs in a session. \n",
        "\n",
        "<b>How to define a variable?</b>  \n",
        "To define variables we use the command <b>tf.Variable()</b>.\n",
        "To be able to use variables in a computation graph it is necessary to initialize them before running the graph in a session. This is done by running <b>tf.global_variables_initializer()</b>.\n",
        "\n",
        "To update the value of a variable, we simply run an assign operation that assigns a value to the variable:"
      ]
    },
    {
      "cell_type": "code",
      "metadata": {
        "collapsed": true,
        "id": "sEiKu0J61bnW",
        "colab_type": "code",
        "colab": {}
      },
      "source": [
        "v = tf.Variable(0)"
      ],
      "execution_count": null,
      "outputs": []
    },
    {
      "cell_type": "markdown",
      "metadata": {
        "id": "cPDQsIx51bnY",
        "colab_type": "text"
      },
      "source": [
        "Let's first create a simple counter, a variable that increases one unit at a time:\n",
        "\n",
        "To do this we use the <b>tf.assign(reference_variable, value_to_update)</b> command. <b>tf.assign</b> takes in two arguments, the <b>reference_variable</b> to update, and assign it to the <b>value_to_update</b> it by."
      ]
    },
    {
      "cell_type": "code",
      "metadata": {
        "collapsed": true,
        "id": "_mAyHJFj1bnZ",
        "colab_type": "code",
        "colab": {}
      },
      "source": [
        "update = tf.assign(v, v+1)"
      ],
      "execution_count": null,
      "outputs": []
    },
    {
      "cell_type": "markdown",
      "metadata": {
        "id": "3hUeyyPi1bnc",
        "colab_type": "text"
      },
      "source": [
        "Variables must be initialized by running an initialization operation after having launched the graph.  We first have to add the initialization operation to the graph:"
      ]
    },
    {
      "cell_type": "code",
      "metadata": {
        "collapsed": true,
        "id": "YIS1oaS81bnc",
        "colab_type": "code",
        "colab": {}
      },
      "source": [
        "init_op = tf.global_variables_initializer()"
      ],
      "execution_count": null,
      "outputs": []
    },
    {
      "cell_type": "markdown",
      "metadata": {
        "id": "zKPvr3o-1bnf",
        "colab_type": "text"
      },
      "source": [
        "We then start a session to run the graph, first initialize the variables, then print the initial value of the <b>state</b> variable, and then run the operation of updating the <b>state</b> variable and printing the result after each update:"
      ]
    },
    {
      "cell_type": "code",
      "metadata": {
        "collapsed": true,
        "id": "oxqAeRqS1bnf",
        "colab_type": "code",
        "colab": {}
      },
      "source": [
        "with tf.Session() as session:\n",
        "    session.run(init_op)\n",
        "    print(session.run(v))\n",
        "    for _ in range(3):\n",
        "        session.run(update)\n",
        "        print(session.run(v))"
      ],
      "execution_count": null,
      "outputs": []
    },
    {
      "cell_type": "markdown",
      "metadata": {
        "id": "DDNFyBi61bnh",
        "colab_type": "text"
      },
      "source": [
        "-----------------"
      ]
    },
    {
      "cell_type": "markdown",
      "metadata": {
        "id": "JhB3r5Kx1bni",
        "colab_type": "text"
      },
      "source": [
        "<a id=\"ref7\"></a>\n",
        "# Placeholders\n",
        "\n",
        "Now we know how to manipulate variables inside TensorFlow graph, but what about feeding data outside of a TensorFlow graph? \n",
        "\n",
        "If you want to feed data to a TensorFlow graph from outside a graph, you will need to use placeholders.\n",
        "\n",
        "So <b>what are these placeholders and what do they do?</b> \n",
        "\n",
        "Placeholders can be seen as \"holes\" in your model, \"holes\" which you will pass the data to, you can create them using <br> <b>tf.placeholder(_datatype_)</b>, where <b>_datatype_</b> specifies the type of data (integers, floating points, strings, booleans) along with its precision (8, 16, 32, 64) bits.\n",
        "\n",
        "The definition of each data type with the respective python syntax is defined as:"
      ]
    },
    {
      "cell_type": "markdown",
      "metadata": {
        "id": "vfpK97nl1bni",
        "colab_type": "text"
      },
      "source": [
        "|Data type\t|Python type|Description|\n",
        "| --------- | --------- | --------- |\n",
        "|DT_FLOAT\t|tf.float32\t|32 bits floating point.|\n",
        "|DT_DOUBLE\t|tf.float64\t|64 bits floating point.|\n",
        "|DT_INT8\t|tf.int8\t|8 bits signed integer.|\n",
        "|DT_INT16\t|tf.int16\t|16 bits signed integer.|\n",
        "|DT_INT32\t|tf.int32\t|32 bits signed integer.|\n",
        "|DT_INT64\t|tf.int64\t|64 bits signed integer.|\n",
        "|DT_UINT8\t|tf.uint8\t|8 bits unsigned integer.|\n",
        "|DT_STRING\t|tf.string\t|Variable length byte arrays. Each element of a Tensor is a byte array.|\n",
        "|DT_BOOL\t|tf.bool\t|Boolean.|\n",
        "|DT_COMPLEX64\t|tf.complex64\t|Complex number made of two 32 bits floating points: real and imaginary parts.|\n",
        "|DT_COMPLEX128\t|tf.complex128\t|Complex number made of two 64 bits floating points: real and imaginary parts.|\n",
        "|DT_QINT8\t|tf.qint8\t|8 bits signed integer used in quantized Ops.|\n",
        "|DT_QINT32\t|tf.qint32\t|32 bits signed integer used in quantized Ops.|\n",
        "|DT_QUINT8\t|tf.quint8\t|8 bits unsigned integer used in quantized Ops.|\n"
      ]
    },
    {
      "cell_type": "markdown",
      "metadata": {
        "id": "aR5AUqOt1bni",
        "colab_type": "text"
      },
      "source": [
        "So we create a placeholder:"
      ]
    },
    {
      "cell_type": "code",
      "metadata": {
        "collapsed": true,
        "id": "2A9eMVeu1bnj",
        "colab_type": "code",
        "colab": {}
      },
      "source": [
        "a = tf.placeholder(tf.float32)"
      ],
      "execution_count": null,
      "outputs": []
    },
    {
      "cell_type": "markdown",
      "metadata": {
        "id": "8G_k3RX01bnl",
        "colab_type": "text"
      },
      "source": [
        "And define a simple multiplication operation:"
      ]
    },
    {
      "cell_type": "code",
      "metadata": {
        "collapsed": true,
        "id": "fKwGMrpt1bnl",
        "colab_type": "code",
        "colab": {}
      },
      "source": [
        "b = a * 2"
      ],
      "execution_count": null,
      "outputs": []
    },
    {
      "cell_type": "markdown",
      "metadata": {
        "id": "Z4gGyhsZ1bnn",
        "colab_type": "text"
      },
      "source": [
        "Now we need to define and run the session, but since we created a \"hole\" in the model to pass the data, when we initialize the session we are obligated to pass an argument with the data, otherwise we would get an error.\n",
        "\n",
        "To pass the data into the model we call the session with an extra argument <b>feed_dict</b> in which we should pass a dictionary with each placeholder name followed by its respective data, just like this:"
      ]
    },
    {
      "cell_type": "code",
      "metadata": {
        "collapsed": true,
        "id": "m_hePdl21bnn",
        "colab_type": "code",
        "colab": {}
      },
      "source": [
        "with tf.Session() as sess:\n",
        "    result = sess.run(b,feed_dict={a:3.5})\n",
        "    print (result)"
      ],
      "execution_count": null,
      "outputs": []
    },
    {
      "cell_type": "markdown",
      "metadata": {
        "id": "SF4oFdL41bnq",
        "colab_type": "text"
      },
      "source": [
        "Since data in TensorFlow is passed in form of multidimensional arrays we can pass any kind of tensor through the placeholders to get the answer to the simple multiplication operation:"
      ]
    },
    {
      "cell_type": "code",
      "metadata": {
        "collapsed": true,
        "id": "c-D3cym81bnq",
        "colab_type": "code",
        "colab": {}
      },
      "source": [
        "dictionary={a: [ [ [1,2,3],[4,5,6],[7,8,9],[10,11,12] ] , [ [13,14,15],[16,17,18],[19,20,21],[22,23,24] ] ] }\n",
        "\n",
        "with tf.Session() as sess:\n",
        "    result = sess.run(b,feed_dict=dictionary)\n",
        "    print (result)"
      ],
      "execution_count": null,
      "outputs": []
    },
    {
      "cell_type": "markdown",
      "metadata": {
        "id": "HJduHzT_1bnu",
        "colab_type": "text"
      },
      "source": [
        "<hr>"
      ]
    },
    {
      "cell_type": "markdown",
      "metadata": {
        "id": "3Pozw-Hx1bnu",
        "colab_type": "text"
      },
      "source": [
        "<a id=\"ref8\"></a>\n",
        "<hr>Operations</h2>\n",
        "\n",
        "Operations are nodes that represent the mathematical operations over the tensors on a graph. These operations can be any kind of functions, like add and subtract tensor or maybe an activation function.\n",
        "\n",
        "<b>tf.constant</b>, <b>tf.matmul</b>, <b>tf.add</b>, <b>tf.nn.sigmoid</b> are some of the operations in TensorFlow. These are like functions in python but operate directly over tensors and each one does a specific thing. \n",
        "<div class=\"alert alert-success alertsuccess\" style=\"margin-top: 20px\">Other operations can be easily found in: <a href=\"https://www.tensorflow.org/versions/r0.9/api_docs/python/index.html\">https://www.tensorflow.org/versions/r0.9/api_docs/python/index.html</a></div>"
      ]
    },
    {
      "cell_type": "code",
      "metadata": {
        "collapsed": true,
        "id": "7iyQ8xk01bnu",
        "colab_type": "code",
        "colab": {}
      },
      "source": [
        "graph5 = tf.Graph()\n",
        "with graph5.as_default():\n",
        "    a = tf.constant([5])\n",
        "    b = tf.constant([2])\n",
        "    c = tf.add(a,b)\n",
        "    d = tf.subtract(a,b)\n",
        "\n",
        "with tf.Session(graph = graph5) as sess:\n",
        "    result = sess.run(c)\n",
        "    print ('c =: %s' % result)\n",
        "    result = sess.run(d)\n",
        "    print ('d =: %s' % result)"
      ],
      "execution_count": null,
      "outputs": []
    },
    {
      "cell_type": "markdown",
      "metadata": {
        "id": "L2xYm06S1bnw",
        "colab_type": "text"
      },
      "source": [
        "<b>tf.nn.sigmoid</b> is an activation function, it's a little more complicated, but this function helps learning models to evaluate what kind of information is good or not."
      ]
    },
    {
      "cell_type": "markdown",
      "metadata": {
        "id": "8qJh5xXw1bnx",
        "colab_type": "text"
      },
      "source": [
        "-----------------"
      ]
    },
    {
      "cell_type": "markdown",
      "metadata": {
        "id": "TE974-Xg1bnx",
        "colab_type": "text"
      },
      "source": [
        "## Want to learn more?\n",
        "\n",
        "Running deep learning programs usually needs a high performance platform. __PowerAI__ speeds up deep learning and AI. Built on IBM’s Power Systems, __PowerAI__ is a scalable software platform that accelerates deep learning and AI with blazing performance for individual users or enterprises. The __PowerAI__ platform supports popular machine learning libraries and dependencies including TensorFlow, Caffe, Torch, and Theano. You can use [PowerAI on IMB Cloud](https://cocl.us/ML0120EN_PAI).\n",
        "\n",
        "Also, you can use __Watson Studio__ to run these notebooks faster with bigger datasets.__Watson Studio__ is IBM’s leading cloud solution for data scientists, built by data scientists. With Jupyter notebooks, RStudio, Apache Spark and popular libraries pre-packaged in the cloud, __Watson Studio__ enables data scientists to collaborate on their projects without having to install anything. Join the fast-growing community of __Watson Studio__ users today with a free account at [Watson Studio](https://cocl.us/ML0120EN_DSX).This is the end of this lesson. Thank you for reading this notebook, and good luck on your studies."
      ]
    },
    {
      "cell_type": "markdown",
      "metadata": {
        "id": "IXhuMD3D1bny",
        "colab_type": "text"
      },
      "source": [
        "### Thanks for completing this lesson!\n",
        "\n",
        "Notebook created by: <a href=\"https://linkedin.com/in/saeedaghabozorgi\"> Saeed Aghabozorgi </a> and <a href=\"https://ca.linkedin.com/in/rafaelblsilva\"> Rafael Belo Da Silva </a></h4> "
      ]
    },
    {
      "cell_type": "markdown",
      "metadata": {
        "id": "9dFCIkTT1bny",
        "colab_type": "text"
      },
      "source": [
        "### References:"
      ]
    },
    {
      "cell_type": "markdown",
      "metadata": {
        "id": "sC3HAJiM1bnz",
        "colab_type": "text"
      },
      "source": [
        "https://www.tensorflow.org/versions/r0.9/get_started/index.html<br>\n",
        "http://jrmeyer.github.io/tutorial/2016/02/01/TensorFlow-Tutorial.html<br>\n",
        "https://www.tensorflow.org/versions/r0.9/api_docs/python/index.html<br>\n",
        "<a href=\"https://www.tensorflow.org/api_docs/python/\">https://www.tensorflow.org/versions/r0.9/resources/dims_types.html</a><br>\n",
        "https://en.wikipedia.org/wiki/Dimension<br>\n",
        "https://book.mql4.com/variables/arrays<br>\n",
        "https://msdn.microsoft.com/en-us/library/windows/desktop/dn424131(v=vs.85).aspx<br>"
      ]
    },
    {
      "cell_type": "markdown",
      "metadata": {
        "id": "HG4G_wEW1bn0",
        "colab_type": "text"
      },
      "source": [
        "<hr>\n",
        "\n",
        "Copyright &copy; 2018 [Cognitive Class](https://cocl.us/DX0108EN_CC). This notebook and its source code are released under the terms of the [MIT License](https://bigdatauniversity.com/mit-license/)."
      ]
    }
  ]
}